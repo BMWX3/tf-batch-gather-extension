{
 "cells": [
  {
   "cell_type": "markdown",
   "metadata": {
    "collapsed": true
   },
   "source": [
    "# Sample script for extended batch_gather function"
   ]
  },
  {
   "cell_type": "code",
   "execution_count": null,
   "metadata": {},
   "outputs": [],
   "source": [
    "# Import packages\n",
    "import numpy as np\n",
    "import tensorflow as tf\n",
    "from batch_gather import batch_gather"
   ]
  },
  {
   "cell_type": "code",
   "execution_count": null,
   "metadata": {},
   "outputs": [],
   "source": [
    "# Sample application of new batch_gather\n",
    "with tf.Session() as sess:\n",
    "    params = tf.constant(np.reshape(np.arange(8), (2, 2, 2)))\n",
    "    indices = tf.constant(np.array([[[0, 1, 0], [0, 0, 1]], [[1, 1, 0], [1, 0, 1]]]))\n",
    "    result = batch_gather(params, indices, 1)\n",
    "    np_params, np_indices, np_result = sess.run((params, indices, result))\n",
    "\n",
    "# Print vars\n",
    "print('Original data:')\n",
    "print(np_params)\n",
    "print('\\nIndices:')\n",
    "print(np_indices)\n",
    "print('\\nResult:')\n",
    "print(np_result)"
   ]
  },
  {
   "cell_type": "code",
   "execution_count": null,
   "metadata": {},
   "outputs": [],
   "source": []
  }
 ],
 "metadata": {
  "kernelspec": {
   "display_name": "Python 3",
   "language": "python",
   "name": "python3"
  },
  "language_info": {
   "codemirror_mode": {
    "name": "ipython",
    "version": 3
   },
   "file_extension": ".py",
   "mimetype": "text/x-python",
   "name": "python",
   "nbconvert_exporter": "python",
   "pygments_lexer": "ipython3",
   "version": "3.6.6"
  }
 },
 "nbformat": 4,
 "nbformat_minor": 1
}
